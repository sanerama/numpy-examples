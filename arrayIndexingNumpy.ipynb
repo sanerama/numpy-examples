{
 "cells": [
  {
   "cell_type": "code",
   "execution_count": 11,
   "metadata": {},
   "outputs": [
    {
     "name": "stdout",
     "output_type": "stream",
     "text": [
      "[[1 3 5 2]\n",
      " [2 6 4 9]\n",
      " [1 7 8 9]]\n",
      "<class 'numpy.ndarray'>\n",
      "(3, 4)\n",
      "\n",
      "[[3 5]\n",
      " [6 4]]\n",
      "[[4 9]\n",
      " [8 9]]\n",
      "3\n"
     ]
    }
   ],
   "source": [
    "import numpy as np\n",
    "# creating an array\n",
    "a = np.array([[1,3,5,2], [2,6,4,9],[1, 7, 8, 9]])\n",
    "print(a)\n",
    "print(type(a))\n",
    "print(a.shape)\n",
    "\n",
    "#slicing an array with first two rows and and 1st and 2nd column\n",
    "print()\n",
    "b = a[:2,1:3]\n",
    "print(b)\n",
    "#slicing an array with last two rows columns\n",
    "c = a[-2:, -2:]\n",
    "print(c)\n",
    "\n",
    "print(b[0,0])"
   ]
  },
  {
   "cell_type": "code",
   "execution_count": null,
   "metadata": {},
   "outputs": [],
   "source": []
  }
 ],
 "metadata": {
  "kernelspec": {
   "display_name": "Python 3",
   "language": "python",
   "name": "python3"
  },
  "language_info": {
   "codemirror_mode": {
    "name": "ipython",
    "version": 3
   },
   "file_extension": ".py",
   "mimetype": "text/x-python",
   "name": "python",
   "nbconvert_exporter": "python",
   "pygments_lexer": "ipython3",
   "version": "3.6.5"
  }
 },
 "nbformat": 4,
 "nbformat_minor": 2
}
