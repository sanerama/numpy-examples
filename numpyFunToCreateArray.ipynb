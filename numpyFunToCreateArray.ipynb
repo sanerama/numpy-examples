{
 "cells": [
  {
   "cell_type": "code",
   "execution_count": 9,
   "metadata": {},
   "outputs": [
    {
     "name": "stdout",
     "output_type": "stream",
     "text": [
      "[[0. 0. 0. 0.]\n",
      " [0. 0. 0. 0.]\n",
      " [0. 0. 0. 0.]\n",
      " [0. 0. 0. 0.]]\n",
      "\n",
      "[[1. 1. 1.]\n",
      " [1. 1. 1.]]\n",
      "\n",
      "[[5 5 5]\n",
      " [5 5 5]\n",
      " [5 5 5]]\n",
      "\n",
      "[[1. 0.]\n",
      " [0. 1.]]\n",
      "\n",
      "[[0.10985109 0.6846686 ]\n",
      " [0.70783835 0.29008895]\n",
      " [0.01697986 0.89438212]]\n"
     ]
    }
   ],
   "source": [
    "import numpy as np\n",
    "a = np.zeros((4,4))  #creates array of size 4 * 4 of all zeros\n",
    "print(a)\n",
    "\n",
    "print()\n",
    "\n",
    "b = np.ones((2,3))   #creates array of size 2 * 3 of all ones\n",
    "print(b)\n",
    "\n",
    "print()\n",
    "\n",
    "c = np.full((3,3), 5) #creates array of size 3 * 3 of all fives\n",
    "print(c)\n",
    "\n",
    "print()\n",
    "\n",
    "d = np.eye(2)         #creates array of size 2 * 2 identity matrix\n",
    "print(d)\n",
    "\n",
    "print()\n",
    "\n",
    "e = np.random.random((3, 2))  #creates array of size 3 * 2 of random numbers\n",
    "print(e)"
   ]
  },
  {
   "cell_type": "code",
   "execution_count": null,
   "metadata": {},
   "outputs": [],
   "source": []
  }
 ],
 "metadata": {
  "kernelspec": {
   "display_name": "Python 3",
   "language": "python",
   "name": "python3"
  },
  "language_info": {
   "codemirror_mode": {
    "name": "ipython",
    "version": 3
   },
   "file_extension": ".py",
   "mimetype": "text/x-python",
   "name": "python",
   "nbconvert_exporter": "python",
   "pygments_lexer": "ipython3",
   "version": "3.6.5"
  }
 },
 "nbformat": 4,
 "nbformat_minor": 2
}
