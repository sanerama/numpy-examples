{
 "cells": [
  {
   "cell_type": "code",
   "execution_count": 5,
   "metadata": {},
   "outputs": [
    {
     "name": "stdout",
     "output_type": "stream",
     "text": [
      "[[1 2 3]\n",
      " [4 5 6]\n",
      " [1 1 6]\n",
      " [2 1 3]]\n",
      "\n",
      "[[False False  True]\n",
      " [ True  True  True]\n",
      " [False False  True]\n",
      " [False False  True]]\n",
      "\n",
      "[3 4 5 6 6 3]\n",
      "\n",
      "[3 4 5 6 6 3]\n"
     ]
    }
   ],
   "source": [
    "import numpy as np\n",
    "a = np.array([[1,2,3], [4,5,6], [1,1,6], [2,1,3]])\n",
    "print(a)\n",
    "print()\n",
    "boln_indx = (a>2) \n",
    "print(boln_indx)\n",
    "print()\n",
    "print(a[boln_indx])\n",
    "print()\n",
    "print(a[a>2])"
   ]
  },
  {
   "cell_type": "code",
   "execution_count": null,
   "metadata": {},
   "outputs": [],
   "source": []
  }
 ],
 "metadata": {
  "kernelspec": {
   "display_name": "Python 3",
   "language": "python",
   "name": "python3"
  },
  "language_info": {
   "codemirror_mode": {
    "name": "ipython",
    "version": 3
   },
   "file_extension": ".py",
   "mimetype": "text/x-python",
   "name": "python",
   "nbconvert_exporter": "python",
   "pygments_lexer": "ipython3",
   "version": "3.6.5"
  }
 },
 "nbformat": 4,
 "nbformat_minor": 2
}
