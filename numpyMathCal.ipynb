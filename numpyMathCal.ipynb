{
 "cells": [
  {
   "cell_type": "code",
   "execution_count": 7,
   "metadata": {},
   "outputs": [
    {
     "name": "stdout",
     "output_type": "stream",
     "text": [
      "[[ 4  9]\n",
      " [49 28]\n",
      " [17 63]]\n",
      "addition using numpy add function\n",
      "[[ 4  9]\n",
      " [49 28]\n",
      " [17 63]]\n",
      "\n",
      "[[ -2  -5]\n",
      " [-41 -16]\n",
      " [  5  45]]\n",
      "subtraction using numpy subtract function\n",
      "[[ -2  -5]\n",
      " [-41 -16]\n",
      " [  5  45]]\n",
      "\n",
      "[[  3  14]\n",
      " [180 132]\n",
      " [ 66 486]]\n",
      "multiplication using numpy multiply function\n",
      "[[  3  14]\n",
      " [180 132]\n",
      " [ 66 486]]\n",
      "\n",
      "[[0.33333333 0.28571429]\n",
      " [0.08888889 0.27272727]\n",
      " [1.83333333 6.        ]]\n",
      "Division using numpy divide function\n",
      "[[0.33333333 0.28571429]\n",
      " [0.08888889 0.27272727]\n",
      " [1.83333333 6.        ]]\n",
      "\n",
      "square root using numpy sqrt function\n",
      "[[1.         1.41421356]\n",
      " [2.         2.44948974]\n",
      " [3.31662479 7.34846923]]\n"
     ]
    }
   ],
   "source": [
    "# basic mathematical operation\n",
    "import numpy as np\n",
    "a = np.array([[1,2],[4,6], [11,54]])\n",
    "b = np.array([[3,7], [45,22], [6,9]])\n",
    "print(a+b)\n",
    "print(\"addition using numpy add function\")\n",
    "print(np.add(a,b))          #addition using numpy add function\n",
    "print()\n",
    "print(a-b)\n",
    "print(\"subtraction using numpy subtract function\")\n",
    "print(np.subtract(a,b))     #subtraction using numpy subtract function\n",
    "print()\n",
    "print(a*b)\n",
    "print(\"multiplication using numpy multiply function\")\n",
    "print(np.multiply(a,b))     #multiplication using numpy multiply function\n",
    "print() \n",
    "print(a/b)\n",
    "print(\"Division using numpy divide function\")\n",
    "print(np.divide(a,b))       #division using numpy divide function\n",
    "print()\n",
    "print(\"square root using numpy sqrt function\")\n",
    "print(np.sqrt(a))           #square root using numpy sqrt function"
   ]
  },
  {
   "cell_type": "code",
   "execution_count": null,
   "metadata": {},
   "outputs": [],
   "source": []
  }
 ],
 "metadata": {
  "kernelspec": {
   "display_name": "Python 3",
   "language": "python",
   "name": "python3"
  },
  "language_info": {
   "codemirror_mode": {
    "name": "ipython",
    "version": 3
   },
   "file_extension": ".py",
   "mimetype": "text/x-python",
   "name": "python",
   "nbconvert_exporter": "python",
   "pygments_lexer": "ipython3",
   "version": "3.6.5"
  }
 },
 "nbformat": 4,
 "nbformat_minor": 2
}
