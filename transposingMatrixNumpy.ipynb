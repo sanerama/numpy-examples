{
 "cells": [
  {
   "cell_type": "code",
   "execution_count": 4,
   "metadata": {},
   "outputs": [
    {
     "name": "stdout",
     "output_type": "stream",
     "text": [
      "[[ 3  7]\n",
      " [45 22]\n",
      " [ 6  9]]\n",
      "\n",
      "after transpossing\n",
      "[[ 3 45  6]\n",
      " [ 7 22  9]]\n",
      "\n",
      "[1 2 3]\n",
      "after transpossing\n",
      "[1 2 3]\n"
     ]
    }
   ],
   "source": [
    "import numpy as np\n",
    "b = np.array([[3,7], [45,22], [6,9]])\n",
    "print(b)\n",
    "print()\n",
    "print(\"after transpossing\")\n",
    "print(b.T)     #numpy uses T to transpose matrix\n",
    "\n",
    "print()\n",
    "# Note that taking the transpose of a rank 1 array does nothing:\n",
    "b = np.array([1,2,3])\n",
    "print(b)    # Prints \"[1 2 3]\"\n",
    "print(\"after transpossing\")\n",
    "print(b.T)  # Prints \"[1 2 3]\""
   ]
  },
  {
   "cell_type": "code",
   "execution_count": null,
   "metadata": {},
   "outputs": [],
   "source": []
  }
 ],
 "metadata": {
  "kernelspec": {
   "display_name": "Python 3",
   "language": "python",
   "name": "python3"
  },
  "language_info": {
   "codemirror_mode": {
    "name": "ipython",
    "version": 3
   },
   "file_extension": ".py",
   "mimetype": "text/x-python",
   "name": "python",
   "nbconvert_exporter": "python",
   "pygments_lexer": "ipython3",
   "version": "3.6.5"
  }
 },
 "nbformat": 4,
 "nbformat_minor": 2
}
