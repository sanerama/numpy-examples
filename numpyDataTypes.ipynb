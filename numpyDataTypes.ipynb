{
 "cells": [
  {
   "cell_type": "code",
   "execution_count": 13,
   "metadata": {},
   "outputs": [
    {
     "name": "stdout",
     "output_type": "stream",
     "text": [
      "[[1 2]]\n",
      "int64\n",
      "float64\n",
      "int64\n",
      "int64\n",
      "[1.1 2.2]\n"
     ]
    }
   ],
   "source": [
    "import numpy as np\n",
    "a = np.array([[1,2]])\n",
    "print(a)\n",
    "print(a.dtype) #as array contains integer will display int64\n",
    "a = np.array([[1.0,2.0]]) #as array contains integer will display int64\n",
    "print(a.dtype)\n",
    "a = np.array([1,2], dtype=np.int64)#dtype id already define\n",
    "print(a.dtype)\n",
    "\n",
    "a = np.array([1.1,2.2], dtype=np.int64)\n",
    "print(a.dtype)\n",
    "\n",
    "a = np.array([1.1,2.2], dtype=np.float64)\n",
    "print(a)"
   ]
  },
  {
   "cell_type": "code",
   "execution_count": null,
   "metadata": {},
   "outputs": [],
   "source": []
  },
  {
   "cell_type": "code",
   "execution_count": null,
   "metadata": {},
   "outputs": [],
   "source": []
  },
  {
   "cell_type": "code",
   "execution_count": null,
   "metadata": {},
   "outputs": [],
   "source": []
  }
 ],
 "metadata": {
  "kernelspec": {
   "display_name": "Python 3",
   "language": "python",
   "name": "python3"
  },
  "language_info": {
   "codemirror_mode": {
    "name": "ipython",
    "version": 3
   },
   "file_extension": ".py",
   "mimetype": "text/x-python",
   "name": "python",
   "nbconvert_exporter": "python",
   "pygments_lexer": "ipython3",
   "version": "3.6.5"
  }
 },
 "nbformat": 4,
 "nbformat_minor": 2
}
