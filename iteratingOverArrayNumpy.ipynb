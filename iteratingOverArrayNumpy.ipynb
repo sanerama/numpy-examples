{
 "cells": [
  {
   "cell_type": "code",
   "execution_count": 20,
   "metadata": {},
   "outputs": [
    {
     "name": "stdout",
     "output_type": "stream",
     "text": [
      "[10 15 20 25 30 35 40 45 50 55 60 65 70 75 80 85 90 95]\n",
      "[[10 15 20]\n",
      " [25 30 35]\n",
      " [40 45 50]\n",
      " [55 60 65]\n",
      " [70 75 80]\n",
      " [85 90 95]]\n",
      "\n",
      "10 15 20 25 30 35 40 45 50 55 60 65 70 75 80 85 90 95 \n",
      "\n",
      "[[10 25 40 55 70 85]\n",
      " [15 30 45 60 75 90]\n",
      " [20 35 50 65 80 95]]\n",
      "\n",
      "[[10 25 40 55 70 85]\n",
      " [15 30 45 60 75 90]\n",
      " [20 35 50 65 80 95]]\n",
      "10 25 40 55 70 85 15 30 45 60 75 90 20 35 50 65 80 95 \n",
      "[[10 25 40 55 70 85]\n",
      " [15 30 45 60 75 90]\n",
      " [20 35 50 65 80 95]]\n",
      "10 15 20 25 30 35 40 45 50 55 60 65 70 75 80 85 90 95 "
     ]
    }
   ],
   "source": [
    "import numpy as np\n",
    "a = np.arange(10,100,5)\n",
    "print(a)\n",
    "\n",
    "a = a.reshape(6,3)\n",
    "print(a)\n",
    "\n",
    "print()\n",
    "\n",
    "for i in np.nditer(a):  #ierator on elements of a\n",
    "    print(i, end = \" \")\n",
    "\n",
    "print()\n",
    "print()\n",
    "b = a.T                 #Tansposing matrix a and storing in b\n",
    "print(b)\n",
    "\n",
    "print()\n",
    "c = b.copy(order = 'C')  #Making copy of c with order C\n",
    "print(c)\n",
    "for i in np.nditer(c):\n",
    "    print(i, end = \" \")  #Iterating with order C\n",
    "    \n",
    "print()\n",
    "d = b.copy(order = 'F')\n",
    "print(d)\n",
    "for i in np.nditer(d):   #Iterating with order F\n",
    "    print(i, end = \" \")"
   ]
  },
  {
   "cell_type": "code",
   "execution_count": null,
   "metadata": {},
   "outputs": [],
   "source": []
  }
 ],
 "metadata": {
  "kernelspec": {
   "display_name": "Python 3",
   "language": "python",
   "name": "python3"
  },
  "language_info": {
   "codemirror_mode": {
    "name": "ipython",
    "version": 3
   },
   "file_extension": ".py",
   "mimetype": "text/x-python",
   "name": "python",
   "nbconvert_exporter": "python",
   "pygments_lexer": "ipython3",
   "version": "3.6.5"
  }
 },
 "nbformat": 4,
 "nbformat_minor": 2
}
