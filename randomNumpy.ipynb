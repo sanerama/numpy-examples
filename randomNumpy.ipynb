{
 "cells": [
  {
   "cell_type": "code",
   "execution_count": 17,
   "metadata": {},
   "outputs": [
    {
     "name": "stdout",
     "output_type": "stream",
     "text": [
      "[-0.97671318  0.7495893   0.11467499 -1.3952103  -0.85303472]\n",
      "\n",
      "random number with size 10 in range 10-50\n",
      "[16 13 20 32 21 36 32 38 23 24]\n",
      "\n",
      "random array of size 3*3*3\n",
      "[0.24975834 0.04798796 0.09307773 0.57117292 0.85082957 0.56188375\n",
      " 0.62496193 0.81141081 0.1591034  0.72235565 0.88475321 0.26729766\n",
      " 0.50240069 0.30334654 0.53251113 0.4585112  0.56250927 0.65263687\n",
      " 0.87241512 0.9058036  0.85594817 0.66646616 0.53202662 0.94282142\n",
      " 0.00777311 0.05881388 0.32149348]\n",
      "\n",
      "finding minimum and maximum from array\n",
      "minimum value of array is 0.007773105933218227\n",
      "maximum value of array is 0.942821420184294\n",
      "\n",
      "[[5.58181100e-02 6.15186185e-01 4.52080768e-01 4.70233321e-04]\n",
      " [3.90734343e-01 5.95172805e-01 1.46214101e-01 6.83692789e-02]\n",
      " [8.36251321e-01 1.86633814e-01 8.55269477e-01 1.07314853e-01]\n",
      " [8.82140472e-01 9.63944069e-01 5.85030843e-01 3.38232346e-01]\n",
      " [8.27903404e-01 6.05909965e-01 3.34524675e-02 2.78145252e-01]\n",
      " [1.20219457e-01 8.58756003e-01 1.04077487e-01 2.47426275e-01]\n",
      " [6.69158874e-01 4.77150008e-03 5.49496794e-01 2.03606984e-01]\n",
      " [2.67096400e-01 6.16048786e-01 7.84791764e-01 6.59088787e-01]\n",
      " [1.05599077e-01 3.62987917e-01 4.07935734e-01 4.45205960e-01]\n",
      " [5.09309308e-01 8.68090425e-01 3.78822854e-01 7.35624940e-01]]\n",
      "First five rows of above array\n",
      "[[5.58181100e-02 6.15186185e-01 4.52080768e-01 4.70233321e-04]\n",
      " [3.90734343e-01 5.95172805e-01 1.46214101e-01 6.83692789e-02]\n",
      " [8.36251321e-01 1.86633814e-01 8.55269477e-01 1.07314853e-01]\n",
      " [8.82140472e-01 9.63944069e-01 5.85030843e-01 3.38232346e-01]\n",
      " [8.27903404e-01 6.05909965e-01 3.34524675e-02 2.78145252e-01]]\n"
     ]
    }
   ],
   "source": [
    "import numpy as np\n",
    "x = np.random.normal(size = 5)\n",
    "print(x)\n",
    "print()\n",
    "# random number with size 10 in range 10-50 \n",
    "print(\"random number with size 10 in range 10-50\")\n",
    "y = np.random.randint(low = 10, high = 50, size = 10)\n",
    "print(y)\n",
    "print()\n",
    "#random array of size 3*3*3\n",
    "print(\"random array of size 3*3*3\")\n",
    "a = np.random.random(3*3*3)\n",
    "print(a)\n",
    "print()\n",
    "#finding minimum and maximum from array\n",
    "print(\"finding minimum and maximum from array\")\n",
    "b = np.min(a)\n",
    "print(\"minimum value of array is\",b)\n",
    "c = np.max(a)\n",
    "print(\"maximum value of array is\",c)\n",
    "print()\n",
    "\"\"\"Write a Python program to create a random 10x4 array and \n",
    "extract the first five rows of the array and store them into a variable.\"\"\"\n",
    "randMatrix = np.random.rand(10,4)\n",
    "print(randMatrix)\n",
    "print(\"First five rows of above array\")\n",
    "firstFive = randMatrix[:5, :]\n",
    "print(firstFive)\n"
   ]
  },
  {
   "cell_type": "code",
   "execution_count": null,
   "metadata": {},
   "outputs": [],
   "source": []
  }
 ],
 "metadata": {
  "kernelspec": {
   "display_name": "Python 3",
   "language": "python",
   "name": "python3"
  },
  "language_info": {
   "codemirror_mode": {
    "name": "ipython",
    "version": 3
   },
   "file_extension": ".py",
   "mimetype": "text/x-python",
   "name": "python",
   "nbconvert_exporter": "python",
   "pygments_lexer": "ipython3",
   "version": "3.6.5"
  }
 },
 "nbformat": 4,
 "nbformat_minor": 2
}
