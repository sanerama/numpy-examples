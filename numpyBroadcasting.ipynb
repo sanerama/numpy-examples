{
 "cells": [
  {
   "cell_type": "code",
   "execution_count": 2,
   "metadata": {},
   "outputs": [
    {
     "name": "stdout",
     "output_type": "stream",
     "text": [
      "first array\n",
      "[[ 0  1  2  3]\n",
      " [ 2  3  4  5]\n",
      " [10 20 30 40]\n",
      " [30 40 50 60]]\n",
      "\n",
      "second array\n",
      "[10  5 10  5]\n",
      "\n",
      "Broadcasting\n",
      "[[10  6 12  8]\n",
      " [12  8 14 10]\n",
      " [20 25 40 45]\n",
      " [40 45 60 65]]\n"
     ]
    }
   ],
   "source": [
    "import numpy as np\n",
    "\n",
    "# basic broadcast program\n",
    "a = np.array([[0,1,2,3],[2,3,4,5],[10,20,30,40],[30,40,50,60]])\n",
    "b = np.array([10,5,10,5])\n",
    "print(\"first array\")\n",
    "print(a)\n",
    "print()\n",
    "print(\"second array\")\n",
    "print(b)\n",
    "print()\n",
    "print(\"Broadcasting\")\n",
    "\n",
    "c = a + b\n",
    "print(c)"
   ]
  },
  {
   "cell_type": "code",
   "execution_count": null,
   "metadata": {},
   "outputs": [],
   "source": []
  }
 ],
 "metadata": {
  "kernelspec": {
   "display_name": "Python 3",
   "language": "python",
   "name": "python3"
  },
  "language_info": {
   "codemirror_mode": {
    "name": "ipython",
    "version": 3
   },
   "file_extension": ".py",
   "mimetype": "text/x-python",
   "name": "python",
   "nbconvert_exporter": "python",
   "pygments_lexer": "ipython3",
   "version": "3.6.5"
  }
 },
 "nbformat": 4,
 "nbformat_minor": 2
}
