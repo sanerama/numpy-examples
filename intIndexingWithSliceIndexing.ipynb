{
 "cells": [
  {
   "cell_type": "code",
   "execution_count": 10,
   "metadata": {},
   "outputs": [
    {
     "name": "stdout",
     "output_type": "stream",
     "text": [
      "[[1 3 5 2]\n",
      " [2 6 4 9]\n",
      " [1 7 8 9]]\n",
      "\n",
      "[1 7 8 9]\n",
      "(4,)\n",
      "\n",
      "[1 2 1]\n",
      "(3,)\n",
      "\n",
      "[[3]\n",
      " [6]\n",
      " [7]]\n",
      "(3, 1)\n"
     ]
    }
   ],
   "source": [
    "import numpy as np\n",
    "# creating an array\n",
    "a = np.array([[1,3,5,2], [2,6,4,9],[1, 7, 8, 9]])\n",
    "print(a)\n",
    "\n",
    "print()\n",
    "# Slicing with integer\n",
    "rowR1 = a[2, : ]  #slicing row with Rank2\n",
    "print(rowR1)\n",
    "print(rowR1.shape)\n",
    "print()\n",
    "col = a[:, 0]      #slicing column with rank 0\n",
    "print(col)\n",
    "print(col.shape)\n",
    "print()\n",
    "col2 = a[:, 1:2]   #slicing column with rank 1\n",
    "print(col2)\n",
    "print(col2.shape)\n"
   ]
  },
  {
   "cell_type": "code",
   "execution_count": null,
   "metadata": {},
   "outputs": [],
   "source": []
  }
 ],
 "metadata": {
  "kernelspec": {
   "display_name": "Python 3",
   "language": "python",
   "name": "python3"
  },
  "language_info": {
   "codemirror_mode": {
    "name": "ipython",
    "version": 3
   },
   "file_extension": ".py",
   "mimetype": "text/x-python",
   "name": "python",
   "nbconvert_exporter": "python",
   "pygments_lexer": "ipython3",
   "version": "3.6.5"
  }
 },
 "nbformat": 4,
 "nbformat_minor": 2
}
