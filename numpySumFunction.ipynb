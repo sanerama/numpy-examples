{
 "cells": [
  {
   "cell_type": "code",
   "execution_count": 2,
   "metadata": {},
   "outputs": [
    {
     "name": "stdout",
     "output_type": "stream",
     "text": [
      "[[ 3  7]\n",
      " [45 22]\n",
      " [ 6  9]]\n",
      "\n",
      "92\n",
      "[54 38]\n",
      "[10 67 15]\n"
     ]
    }
   ],
   "source": [
    "import numpy as np\n",
    "b = np.array([[3,7], [45,22], [6,9]])\n",
    "print(b)\n",
    "\n",
    "print()\n",
    "\n",
    "print(np.sum(b))\n",
    "print(np.sum(b, axis = 0))    #prints sum of all columns \n",
    "print(np.sum(b, axis = 1))    #prints sum of all rows\n"
   ]
  },
  {
   "cell_type": "code",
   "execution_count": null,
   "metadata": {},
   "outputs": [],
   "source": []
  }
 ],
 "metadata": {
  "kernelspec": {
   "display_name": "Python 3",
   "language": "python",
   "name": "python3"
  },
  "language_info": {
   "codemirror_mode": {
    "name": "ipython",
    "version": 3
   },
   "file_extension": ".py",
   "mimetype": "text/x-python",
   "name": "python",
   "nbconvert_exporter": "python",
   "pygments_lexer": "ipython3",
   "version": "3.6.5"
  }
 },
 "nbformat": 4,
 "nbformat_minor": 2
}
