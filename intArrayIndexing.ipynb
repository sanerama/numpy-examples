{
 "cells": [
  {
   "cell_type": "code",
   "execution_count": 10,
   "metadata": {},
   "outputs": [
    {
     "name": "stdout",
     "output_type": "stream",
     "text": [
      "[[1 3 5 2]\n",
      " [2 6 4 9]\n",
      " [1 7 8 9]]\n",
      "\n",
      "[1 6 7]\n",
      "[1 6 7]\n",
      "\n",
      "[3 4 1]\n",
      "\n",
      "[[1 6 5 2]\n",
      " [2 6 7 9]\n",
      " [4 7 8 9]]\n"
     ]
    }
   ],
   "source": [
    "import numpy as np\n",
    "# creating an array\n",
    "a = np.array([[1,3,5,2], [2,6,4,9],[1, 7, 8, 9]])\n",
    "print(a)\n",
    "print()\n",
    "\n",
    "print(a[[2,1,2],[0,1,1]])\n",
    "print(np.array([a[2,0], a[1,1], a[2,1]]))\n",
    "\n",
    "print()\n",
    "\n",
    "#creating array of indices\n",
    "b = np.array([1,2,0])\n",
    "print(a[np.arange(3), b]) #selecting element of each row using indices of b\n",
    "\n",
    "print()\n",
    "a[np.arange(3), b] +=3    # Mutate one element from each row of a using the indices in b\n",
    "\n",
    "print(a)"
   ]
  },
  {
   "cell_type": "code",
   "execution_count": null,
   "metadata": {},
   "outputs": [],
   "source": []
  }
 ],
 "metadata": {
  "kernelspec": {
   "display_name": "Python 3",
   "language": "python",
   "name": "python3"
  },
  "language_info": {
   "codemirror_mode": {
    "name": "ipython",
    "version": 3
   },
   "file_extension": ".py",
   "mimetype": "text/x-python",
   "name": "python",
   "nbconvert_exporter": "python",
   "pygments_lexer": "ipython3",
   "version": "3.6.5"
  }
 },
 "nbformat": 4,
 "nbformat_minor": 2
}
